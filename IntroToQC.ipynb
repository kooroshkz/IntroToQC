{
 "cells": [
  {
   "cell_type": "markdown",
   "metadata": {},
   "source": [
    "# Introduction to Quantum Computing\n",
    "## Using Python"
   ]
  },
  {
   "cell_type": "markdown",
   "metadata": {},
   "source": [
    "### Pioneers and their technologies\n",
    "\n",
    "- Super Conducting: IBM, Google, Rigetti, Intel, D-wave\n",
    "- Ion Trap: Honeywell, IONQ\n",
    "- Topological: Microsoft, Wilicon\n",
    "- Photonics: PsiQuantum\n"
   ]
  },
  {
<<<<<<< HEAD
   "cell_type": "markdown",
   "metadata": {},
   "source": [
    "### Coding Prerequisites\n",
    "- Python Programming Language\n",
    "- Matplotlib\n",
    "- Numpy"
   ]
  },
  {
   "cell_type": "markdown",
   "metadata": {},
   "source": [
    "#### Python Basics\n",
    "by [LoginRadius](https://www.loginradius.com/blog/engineering/python-basics-in-minutes/)\n"
   ]
  },
  {
=======
>>>>>>> 40383f3dcfe24e33f1a45d07c50f16db42863666
   "cell_type": "code",
   "execution_count": null,
   "metadata": {},
   "outputs": [],
<<<<<<< HEAD
   "source": [
    "#show the sum of two integers\n",
    "number1 = 5\n",
    "number2 = 7\n",
    "print(number1+number2)"
   ]
  }
 ],
 "metadata": {
  "kernelspec": {
   "display_name": "base",
   "language": "python",
   "name": "python3"
  },
  "language_info": {
   "name": "python",
   "version": "3.10.9"
=======
   "source": []
  }
 ],
 "metadata": {
  "language_info": {
   "name": "python"
>>>>>>> 40383f3dcfe24e33f1a45d07c50f16db42863666
  }
 },
 "nbformat": 4,
 "nbformat_minor": 2
}
