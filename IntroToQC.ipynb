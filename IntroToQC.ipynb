{
 "cells": [
  {
   "cell_type": "markdown",
   "metadata": {},
   "source": [
    "# Introduction to Quantum Computing\n",
    "## Using Python"
   ]
  },
  {
   "cell_type": "markdown",
   "metadata": {},
   "source": [
    "### Pioneers and their technologies\n",
    "\n",
    "- Super Conducting: IBM, Google, Rigetti, Intel, D-wave\n",
    "- Ion Trap: Honeywell, IONQ\n",
    "- Topological: Microsoft, Wilicon\n",
    "- Photonics: PsiQuantum\n"
   ]
  },
  {
   "cell_type": "code",
   "execution_count": null,
   "metadata": {},
   "outputs": [],
   "source": []
  }
 ],
 "metadata": {
  "language_info": {
   "name": "python"
  }
 },
 "nbformat": 4,
 "nbformat_minor": 2
}
